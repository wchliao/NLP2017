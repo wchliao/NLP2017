{
 "cells": [
  {
   "cell_type": "code",
   "execution_count": 1,
   "metadata": {
    "collapsed": true
   },
   "outputs": [],
   "source": [
    "import argparse\n",
    "import sys\n",
    "import functions as func\n",
    "import operator\n",
    "import pandas as pd\n",
    "import numpy as np\n",
    "import re\n",
    "import Reader"
   ]
  },
  {
   "cell_type": "code",
   "execution_count": 16,
   "metadata": {
    "collapsed": true
   },
   "outputs": [],
   "source": [
    "def parseData(args):\n",
    "    polarity_contents = func.parsePolarityOut(args.polarity_simpl_file, term2POS)    #'data/polarity_simpl.out', term2POS)\n",
    "    aspect_contents = func.parseAspectOut(args.aspect_simpl_file, term2POS)     #'data/aspect_simpl.out', term2POS)\n",
    "    testReview_contents = func.parseTestReviewOut(args.test_simpl_file, term2POS)#'data/test_simpl.out', term2POS)\n",
    "\n",
    "    contents = polarity_contents+aspect_contents+testReview_contents\n",
    "    return contents\n",
    "\n",
    "# Train Word2Vec model\n",
    "def trainWord2Vec(contents):\n",
    "    model = func.train_word2vec_model(contents)\n",
    "    return model\n",
    "\n",
    "# Find similar terms\n",
    "def findSimilarTermsOfAllAspects(model, serviceTerms, envTerms, priceTerms, trafficTerms, restaurantTerms, threshold):\n",
    "    serviceNewTerms = func.getSimTerms(model, serviceTerms, [threshold, threshold, threshold])\n",
    "    envNewTerms = func.getSimTerms(model, envTerms, [threshold, threshold, threshold, threshold])\n",
    "    priceNewTerms = func.getSimTerms(model, priceTerms, [threshold, threshold])\n",
    "    trafficNewTerms = func.getSimTerms(model, trafficTerms, [threshold, threshold])\n",
    "    restaurantNewTerms = func.getSimTerms(model, restaurantTerms, [threshold, threshold])\n",
    "    return serviceNewTerms, envNewTerms, priceNewTerms, trafficNewTerms, restaurantNewTerms\n",
    "\n",
    "\n",
    "# DecideAspect for each sentence and write to file\n",
    "def decideAspectToFile(arg, serviceNewTerms, envNewTerms, priceNewTerms, trafficNewTerms, restaurantNewTerms, filename):\n",
    "    #f = open('Aspect_per_sentence.csv', 'w')\n",
    "    f = open(filename, 'w')\n",
    "    idsentences = Reader.Reader.test(args.test_simpl_file)\n",
    "    for Id, sentences in idsentences:\n",
    "        for i,sentence in enumerate(sentences):\n",
    "            f.write(str(Id)+\",\"+str(func.decideAspect(sentence, serviceNewTerms, envNewTerms, priceNewTerms, trafficNewTerms, restaurantNewTerms))+'\\n')\n",
    "    f.close()\n",
    "\n",
    "    '''\n",
    "    for Id, comment in testReviewDict.items():\n",
    "        sentences = func.split2sentences(comment)\n",
    "        print(sentences)\n",
    "        for i,sentence in enumerate(sentences):\n",
    "            print(i,sentence)\n",
    "            f.write(str(Id)+\",\"+str(func.decideAspect(sentence, serviceNewTerms, envNewTerms, priceNewTerms, trafficNewTerms, restaurantNewTerms))+'\\n')\n",
    "    f.close()\n",
    "    '''\n",
    "\n",
    "\n",
    "\n",
    "# Count label (0 or not 0) according to input file\n",
    "def decideMentionTofile(testReviewDict, testDF, serviceNewTerms, envNewTerms, priceNewTerms, trafficNewTerms, restaurantNewTerms):\n",
    "    f = open('result.csv', 'w')\n",
    "    f.write('Id,Label\\n')\n",
    "    zeroCnt = 0\n",
    "    for i in range(testDF.shape[0]):\n",
    "        Id, Review_id, Aspect = testDF.iloc[i]\n",
    "        ans = func.decideMention(testReviewDict[int(Review_id)], str(Aspect), serviceNewTerms, envNewTerms, priceNewTerms, trafficNewTerms, restaurantNewTerms)\n",
    "        if ans == 0:\n",
    "            zeroCnt += 1\n",
    "        f.write(str(Id)+\",\"+str(ans)+'\\n')\n",
    "    print('zeroCnt', float(zeroCnt/testDF.shape[0]))\n",
    "    f.close()\n",
    "\n",
    "    \n",
    "class Args:\n",
    "    def __init__(self, polarity_simpl_file, aspect_simpl_file, test_simpl_file, question_file, output_file, threshold):\n",
    "        self.polarity_simpl_file = polarity_simpl_file\n",
    "        self.aspect_simpl_file = aspect_simpl_file\n",
    "        self.test_simpl_file = test_simpl_file\n",
    "        self.question_file = question_file\n",
    "        self.output_file = output_file\n",
    "        self.threshold = threshold"
   ]
  },
  {
   "cell_type": "code",
   "execution_count": 3,
   "metadata": {
    "collapsed": false
   },
   "outputs": [],
   "source": [
    "args = Args('data/polarity_simpl.out', 'data/aspect_simpl.out', 'data/test_simpl.out', 'data/test.csv', 'Aspect_per_sentence.csv', 0.45)"
   ]
  },
  {
   "cell_type": "code",
   "execution_count": 4,
   "metadata": {
    "collapsed": false
   },
   "outputs": [],
   "source": [
    "# Term to POS tag\n",
    "term2POS = func.readDictBig('external/dict.txt.big')\n",
    "contents = parseData(args)\n",
    "model = trainWord2Vec(contents)"
   ]
  },
  {
   "cell_type": "code",
   "execution_count": 5,
   "metadata": {
    "collapsed": true
   },
   "outputs": [],
   "source": [
    "# Head aspect terms\n",
    "serviceTerms = ['服务','态度','人员']\n",
    "envTerms = ['环境','客房','设备','空调']\n",
    "priceTerms = ['价格','房价']\n",
    "trafficTerms = ['交通','地理']\n",
    "restaurantTerms = ['餐厅','早餐']\n",
    "\n",
    "\n",
    "# Read input file for submission\n",
    "testReviewDict = func.readTestReview(args.test_simpl_file)    #'data/test_simpl.out')\n",
    "testDF = pd.read_csv(args.question_file)                     #'data/test.csv')"
   ]
  },
  {
   "cell_type": "code",
   "execution_count": 9,
   "metadata": {
    "collapsed": false
   },
   "outputs": [
    {
     "name": "stdout",
     "output_type": "stream",
     "text": [
      "167\n",
      "381\n",
      "126\n",
      "66\n",
      "239\n"
     ]
    }
   ],
   "source": [
    "#serviceNewTerms, envNewTerms, priceNewTerms, trafficNewTerms, restaurantNewTerms = findSimilarTermsOfAllAspects(model, serviceTerms, envTerms, priceTerms, trafficTerms, restaurantTerms, float(args.threshold))\n",
    "serviceNewTerms, envNewTerms, priceNewTerms, trafficNewTerms, restaurantNewTerms = findSimilarTermsOfAllAspects(model, serviceTerms, envTerms, priceTerms, trafficTerms, restaurantTerms, 0.4)\n",
    "\n",
    "print(len(serviceNewTerms))\n",
    "print(len(envNewTerms))\n",
    "print(len(priceNewTerms))\n",
    "print(len(trafficNewTerms))\n",
    "print(len(restaurantNewTerms))"
   ]
  },
  {
   "cell_type": "code",
   "execution_count": 14,
   "metadata": {
    "collapsed": false,
    "scrolled": true
   },
   "outputs": [],
   "source": [
    "#print(serviceNewTerms)\n",
    "#print(envNewTerms)\n",
    "#print(priceNewTerms)\n",
    "#print(trafficNewTerms)\n",
    "#print(restaurantNewTerms)\n",
    "#func.findSimTerm(model, '服务')"
   ]
  },
  {
   "cell_type": "code",
   "execution_count": 17,
   "metadata": {
    "collapsed": false
   },
   "outputs": [
    {
     "name": "stdout",
     "output_type": "stream",
     "text": [
      "End\n"
     ]
    }
   ],
   "source": [
    "decideAspectToFile(args, serviceNewTerms, envNewTerms, priceNewTerms, trafficNewTerms, restaurantNewTerms, args.output_file)\n",
    "#decideMentionTofile(testReviewDict, testDF, serviceNewTerms, envNewTerms, priceNewTerms, trafficNewTerms, restaurantNewTerms)\n",
    "\n",
    "print('End')"
   ]
  },
  {
   "cell_type": "code",
   "execution_count": null,
   "metadata": {
    "collapsed": false
   },
   "outputs": [],
   "source": []
  },
  {
   "cell_type": "code",
   "execution_count": null,
   "metadata": {
    "collapsed": false
   },
   "outputs": [],
   "source": []
  },
  {
   "cell_type": "code",
   "execution_count": null,
   "metadata": {
    "collapsed": true
   },
   "outputs": [],
   "source": []
  }
 ],
 "metadata": {
  "kernelspec": {
   "display_name": "Python 3",
   "language": "python",
   "name": "python3"
  },
  "language_info": {
   "codemirror_mode": {
    "name": "ipython",
    "version": 3
   },
   "file_extension": ".py",
   "mimetype": "text/x-python",
   "name": "python",
   "nbconvert_exporter": "python",
   "pygments_lexer": "ipython3",
   "version": "3.5.2"
  }
 },
 "nbformat": 4,
 "nbformat_minor": 1
}
