{
 "cells": [
  {
   "cell_type": "code",
   "execution_count": 1,
   "metadata": {
    "collapsed": false
   },
   "outputs": [],
   "source": [
    "import functions as func\n",
    "import operator\n",
    "import pandas as pd\n",
    "import numpy as np\n",
    "import re"
   ]
  },
  {
   "cell_type": "code",
   "execution_count": 2,
   "metadata": {
    "collapsed": true
   },
   "outputs": [],
   "source": [
    "term2POS = func.readDictBig('external/dict.txt.big')"
   ]
  },
  {
   "cell_type": "code",
   "execution_count": 3,
   "metadata": {
    "collapsed": false
   },
   "outputs": [],
   "source": [
    "polarity_contents = func.parsePolarityOut('data/polarity_simpl.out', term2POS)\n",
    "\n",
    "aspect_contents = func.parseAspectOut('data/aspect_simpl.out', term2POS)\n",
    "\n",
    "testReview_contents = func.parseTestReviewOut('data/test_simpl.out', term2POS)"
   ]
  },
  {
   "cell_type": "code",
   "execution_count": 4,
   "metadata": {
    "collapsed": false
   },
   "outputs": [],
   "source": [
    "contents = polarity_contents+aspect_contents+testReview_contents\n",
    "model = func.train_word2vec_model(contents)"
   ]
  },
  {
   "cell_type": "code",
   "execution_count": 5,
   "metadata": {
    "collapsed": false
   },
   "outputs": [],
   "source": [
    "serviceTerms = ['服务','态度','人员']\n",
    "envTerms = ['环境','客房','设备','空调']\n",
    "priceTerms = ['价格','房价']\n",
    "trafficTerms = ['交通','地理']\n",
    "restaurantTerms = ['餐厅','早餐']"
   ]
  },
  {
   "cell_type": "code",
   "execution_count": 6,
   "metadata": {
    "collapsed": false
   },
   "outputs": [],
   "source": [
    "thre = 0.4\n",
    "serviceNewTerms = func.getSimTerms(model, serviceTerms, [0.4, 0.4, 0.4])\n",
    "envNewTerms = func.getSimTerms(model, envTerms, [0.4, 0.4, 0.4, 0.4])\n",
    "priceNewTerms = func.getSimTerms(model, priceTerms, [0.4, 0.4])\n",
    "trafficNewTerms = func.getSimTerms(model, trafficTerms, [0.4, 0.4])\n",
    "restaurantNewTerms = func.getSimTerms(model, restaurantTerms, [0.4, 0.4])"
   ]
  },
  {
   "cell_type": "code",
   "execution_count": 7,
   "metadata": {
    "collapsed": false
   },
   "outputs": [
    {
     "name": "stdout",
     "output_type": "stream",
     "text": [
      "409\n",
      "697\n",
      "248\n",
      "239\n",
      "312\n"
     ]
    }
   ],
   "source": [
    "print(len(serviceNewTerms))\n",
    "print(len(envNewTerms))\n",
    "print(len(priceNewTerms))\n",
    "print(len(trafficNewTerms))\n",
    "print(len(restaurantNewTerms))\n",
    "\n",
    "#print(serviceNewTerms)\n",
    "#print(envNewTerms)\n",
    "#print(priceNewTerms)\n",
    "#print(trafficNewTerms)\n",
    "#print(restaurantNewTerms)"
   ]
  },
  {
   "cell_type": "code",
   "execution_count": null,
   "metadata": {
    "collapsed": false
   },
   "outputs": [],
   "source": []
  },
  {
   "cell_type": "code",
   "execution_count": 8,
   "metadata": {
    "collapsed": false
   },
   "outputs": [],
   "source": [
    "testReviewDict = func.readTestReview('data/test_simpl.out')\n",
    "testDF = pd.read_csv('data/test.csv')"
   ]
  },
  {
   "cell_type": "code",
   "execution_count": null,
   "metadata": {
    "collapsed": true
   },
   "outputs": [],
   "source": []
  },
  {
   "cell_type": "code",
   "execution_count": null,
   "metadata": {
    "collapsed": false
   },
   "outputs": [],
   "source": [
    "f = open('Aspect_per_sentence.csv', 'w')\n",
    "for Id, comment in testReviewDict.items():\n",
    "    sentences = re.split('[,.～！，。；]', comment)\n",
    "    for sentence in sentences:\n",
    "        f.write(str(Id)+\",\"+str(func.decideAspect(sentence, serviceNewTerms, envNewTerms, priceNewTerms, trafficNewTerms, restaurantNewTerms))+'\\n')\n",
    "f.close()"
   ]
  },
  {
   "cell_type": "code",
   "execution_count": null,
   "metadata": {
    "collapsed": true
   },
   "outputs": [],
   "source": []
  },
  {
   "cell_type": "code",
   "execution_count": null,
   "metadata": {
    "collapsed": true
   },
   "outputs": [],
   "source": []
  },
  {
   "cell_type": "code",
   "execution_count": 14,
   "metadata": {
    "collapsed": false
   },
   "outputs": [],
   "source": [
    "f = open('result.csv', 'w')\n",
    "f.write('Id,Label\\n')\n",
    "for i in range(testDF.shape[0]):\n",
    "    Id, Review_id, Aspect = testDF.iloc[i]\n",
    "    f.write(str(Id)+\",\"+str(func.countLabel(testReviewDict[int(Review_id)], str(Aspect), serviceNewTerms, envNewTerms, priceNewTerms, trafficNewTerms, restaurantNewTerms))+'\\n')\n",
    "f.close()"
   ]
  },
  {
   "cell_type": "code",
   "execution_count": null,
   "metadata": {
    "collapsed": false
   },
   "outputs": [],
   "source": []
  },
  {
   "cell_type": "code",
   "execution_count": null,
   "metadata": {
    "collapsed": false
   },
   "outputs": [],
   "source": []
  },
  {
   "cell_type": "code",
   "execution_count": null,
   "metadata": {
    "collapsed": true
   },
   "outputs": [],
   "source": []
  }
 ],
 "metadata": {
  "kernelspec": {
   "display_name": "Python 3",
   "language": "python",
   "name": "python3"
  },
  "language_info": {
   "codemirror_mode": {
    "name": "ipython",
    "version": 3
   },
   "file_extension": ".py",
   "mimetype": "text/x-python",
   "name": "python",
   "nbconvert_exporter": "python",
   "pygments_lexer": "ipython3",
   "version": "3.5.2"
  }
 },
 "nbformat": 4,
 "nbformat_minor": 1
}
