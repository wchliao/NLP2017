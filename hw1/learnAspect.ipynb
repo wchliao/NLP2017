{
 "cells": [
  {
   "cell_type": "code",
   "execution_count": 1,
   "metadata": {
    "collapsed": false
   },
   "outputs": [],
   "source": [
    "import functions as func\n",
    "import operator\n",
    "import pandas as pd\n",
    "import numpy as np"
   ]
  },
  {
   "cell_type": "code",
   "execution_count": 2,
   "metadata": {
    "collapsed": false
   },
   "outputs": [],
   "source": [
    "#func.toSimplified('polarity.out', 'polarity_simpl.out')\n",
    "#func.toSimplified('aspect.out', 'aspect_simpl.out')\n",
    "#func.toSimplified('test_review.out', 'test_simpl.out')"
   ]
  },
  {
   "cell_type": "code",
   "execution_count": 3,
   "metadata": {
    "collapsed": true
   },
   "outputs": [],
   "source": [
    "term2POS = func.readDictBig('external/dict.txt.big')"
   ]
  },
  {
   "cell_type": "code",
   "execution_count": 4,
   "metadata": {
    "collapsed": true
   },
   "outputs": [],
   "source": [
    "polarity_contents = func.parsePolarityOut('polarity_simpl.out', term2POS)\n",
    "\n",
    "aspect_contents = func.parseAspectOut('aspect_simpl.out', term2POS)\n",
    "\n",
    "testReview_contents = func.parseTestReviewOut('test_simpl.out', term2POS)"
   ]
  },
  {
   "cell_type": "code",
   "execution_count": 5,
   "metadata": {
    "collapsed": false
   },
   "outputs": [],
   "source": [
    "contents = polarity_contents+aspect_contents+testReview_contents\n",
    "model = func.train_word2vec_model(contents)"
   ]
  },
  {
   "cell_type": "code",
   "execution_count": 6,
   "metadata": {
    "collapsed": false
   },
   "outputs": [],
   "source": [
    "serviceTerms = ['服务','态度','人员']\n",
    "envTerms = ['环境','客房','设备','空调']\n",
    "priceTerms = ['价格','房价']\n",
    "trafficTerms = ['交通','地理']\n",
    "restaurantTerms = ['餐厅','早餐']"
   ]
  },
  {
   "cell_type": "code",
   "execution_count": 39,
   "metadata": {
    "collapsed": false
   },
   "outputs": [],
   "source": [
    "serviceNewTerms = func.getSimTerms(model, serviceTerms, [0.55, 0.55, 0.55])\n",
    "envNewTerms = func.getSimTerms(model, envTerms, [0.55, 0.55, 0.55, 0.55])\n",
    "priceNewTerms = func.getSimTerms(model, priceTerms, [0.55, 0.55])\n",
    "trafficNewTerms = func.getSimTerms(model, trafficTerms, [0.55, 0.55])\n",
    "restaurantNewTerms = func.getSimTerms(model, restaurantTerms, [0.55, 0.55])"
   ]
  },
  {
   "cell_type": "code",
   "execution_count": 40,
   "metadata": {
    "collapsed": false
   },
   "outputs": [
    {
     "name": "stdout",
     "output_type": "stream",
     "text": [
      "37\n",
      "84\n",
      "43\n",
      "17\n",
      "87\n"
     ]
    }
   ],
   "source": [
    "print(len(serviceNewTerms))\n",
    "print(len(envNewTerms))\n",
    "print(len(priceNewTerms))\n",
    "print(len(trafficNewTerms))\n",
    "print(len(restaurantNewTerms))"
   ]
  },
  {
   "cell_type": "code",
   "execution_count": 41,
   "metadata": {
    "collapsed": false
   },
   "outputs": [],
   "source": [
    "\n",
    "#print(serviceNewTerms)\n",
    "#print(envNewTerms)\n",
    "#print(priceNewTerms)\n",
    "#print(trafficNewTerms)\n",
    "#print(restaurantNewTerms)"
   ]
  },
  {
   "cell_type": "code",
   "execution_count": 42,
   "metadata": {
    "collapsed": false
   },
   "outputs": [],
   "source": [
    "testReviewDict = func.readTestReview('test_simpl.out')"
   ]
  },
  {
   "cell_type": "code",
   "execution_count": 43,
   "metadata": {
    "collapsed": false
   },
   "outputs": [],
   "source": [
    "testDF = pd.read_csv('data/test.csv')"
   ]
  },
  {
   "cell_type": "code",
   "execution_count": 44,
   "metadata": {
    "collapsed": false
   },
   "outputs": [],
   "source": [
    "f = open('result.csv', 'w')\n",
    "f.write('Id,Label\\n')\n",
    "for i in range(testDF.shape[0]):\n",
    "    Id, Review_id, Aspect = testDF.iloc[i]\n",
    "    f.write(str(Id)+\",\"+str(func.countLabel(testReviewDict[int(Review_id)], str(Aspect), serviceNewTerms, envNewTerms, priceNewTerms, trafficNewTerms, restaurantNewTerms))+'\\n')\n",
    "f.close()"
   ]
  },
  {
   "cell_type": "code",
   "execution_count": null,
   "metadata": {
    "collapsed": false
   },
   "outputs": [],
   "source": []
  },
  {
   "cell_type": "code",
   "execution_count": null,
   "metadata": {
    "collapsed": true
   },
   "outputs": [],
   "source": []
  }
 ],
 "metadata": {
  "kernelspec": {
   "display_name": "Python 3",
   "language": "python",
   "name": "python3"
  },
  "language_info": {
   "codemirror_mode": {
    "name": "ipython",
    "version": 3
   },
   "file_extension": ".py",
   "mimetype": "text/x-python",
   "name": "python",
   "nbconvert_exporter": "python",
   "pygments_lexer": "ipython3",
   "version": "3.5.2"
  }
 },
 "nbformat": 4,
 "nbformat_minor": 1
}
